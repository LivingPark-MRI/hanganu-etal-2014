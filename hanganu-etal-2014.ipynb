{
 "cells": [
  {
   "cell_type": "markdown",
   "id": "ede17860",
   "metadata": {},
   "source": [
    "# Replication: Hanganu *et al.*, 2014\n",
    "\n",
    "## Introduction\n",
    "\n",
    "This notebook attemps to replicate the following paper with the PPMI dataset:\n",
    "\n",
    "A. Hanganu et al. <a href=https://academic.oup.com/brain/article/137/4/1120/372146> “Mild cognitive impairment is linked with faster rate of cortical thinning in patients with Parkinson’s disease longitudinally”</a> Brain, vol. 137, no. 4, pp. 1120–1129, 2014.\n",
    "\n",
    "\n"
   ]
  },
  {
   "cell_type": "markdown",
   "id": "a7b736be",
   "metadata": {
    "slideshow": {
     "slide_type": "-"
    }
   },
   "source": [
    "Abbreviations:\n",
    "\n",
    "GMV - gray matter volume <br>\n",
    "HC- healthy controls <br>\n",
    "MCI - mild cognitive impairement <br>\n",
    "MoCA - Montreal Cognitive Assessement <br>\n",
    "PD-MCI - Parkinson's disease with MCI <br>\n",
    "PD-non-MCI - Parkinson's disease without MCI"
   ]
  },
  {
   "cell_type": "markdown",
   "id": "c592434a",
   "metadata": {
    "slideshow": {
     "slide_type": "fragment"
    }
   },
   "source": [
    "This study involved 17 PD-MCI patients, 15 PD-non-MCI patients, and 18 HC. The demografic parameters were as follows (table extracted from the paper):\n",
    "\n",
    "<img src=\"images/demographics.png\"/>"
   ]
  },
  {
   "cell_type": "markdown",
   "id": "91cac3e7",
   "metadata": {
    "slideshow": {
     "slide_type": "-"
    }
   },
   "source": [
    "The main results of the paper can be divided into three sections:\n",
    "    \n",
    "   1. **Difference in changes of cortical thickness between groups** \n",
    "    \n",
    "        - **PD-MCI** showed increased rate of overall cortical thinning compared with both PD-non-MCI and HC (Table 2).\n",
    "        \n",
    "            - **PD-MCI vs PD-non-MCI**: increased thinning was detected in the right temporal lobe (middle temporal gyrus, transverse temporal gyrus, temporal pole), the right insula, right inferior frontal gyrus and the right supplementary motor area (Figure 1). \n",
    "            \n",
    "            - **PD-MCI vs HC**: increased thinning was again detected in the right temporal lobe and right supplementary motor area. Additional significant clusters included the bilateral precuneus, bi- lateral cuneus, bilateral lingual, as well as right inferior parietal, right lateral occipital and left orbitofrontal region (Figure 1). \n",
    "            \n",
    "            - **PD-non-MCI vs HC**: an increased rate of thinning only in the left lateral occipital and left fusiform regions (Figure 1).\n",
    "            \n",
    "\n",
    "        \n",
    "<img src=\"images/org_results_figure_1.png\"/> \n",
    "<img src=\"images/org_results_table_2.png\"/>\n",
    "    \n",
    "   2. **Correlation between change of cortical thickness and MoCA** \n",
    "    \n",
    "        - a positive correlation between rate of change of cortical thickness and MoCA scores was observed when considering all of the patients with Parkinson’s disease (All-PD group), which was driven by the PD-MCI group. Significant clusters were revealed in the temporal lobe bilaterally, the right occipital medial lobe and the left postcentral gyrus. Clusters of negative correlation were revealed in the anterior cingulate region in the All Parkinson’s disease group and in the transverse temporal gyrus in PD-MCI (Figure 2).\n",
    "        \n",
    "<img src=\"images/org_results_figure_2.png\"/>\n",
    "    \n",
    "    \n",
    "   3. **Differences in change of subcortical volume between groups**\n",
    "    \n",
    "         - decreased volumes in both Parkinson’s disease groups of the thalamus, caudate nucleus, putamen and hippocampus. \n",
    "         \n",
    "         - a significant decrease in volume of the amygdala and nucleus accumbens was observed in the PD-MCI group vs both PD-non-MCI and HC (Table 2). ## note that this information is not consistent with Table 2. MD-MCI vs PD-non-MCI is significant only for Amyg\n",
    "    \n",
    "    \n",
    "   4. **Correlation between subcortical volume differences and MoCA** \n",
    "    \n",
    "        - a significant correlation between change of cognition over time and change of amygdala volume was identified in the All Parkinson’s disease group, and this was driven by the near-significant result observed in the Parkinson’s disease with MCI group (P = 0.059). Additionally both the Parkinson’s disease with MCI and All Parkinson’s disease groups revealed a correlation between cognition and the volume of the thalamus (Table 3).\n",
    "\n",
    "<img src=\"images/org_results_table_3.png\"/>\n",
    "    "
   ]
  },
  {
   "cell_type": "markdown",
   "id": "438b3bc1",
   "metadata": {},
   "source": [
    "The remainder of this notebook is an attempt to replicate this result using the PPMI dataset."
   ]
  },
  {
   "cell_type": "markdown",
   "id": "52363b72",
   "metadata": {},
   "source": [
    "## Initial setup\n",
    "\n",
    "<!-- LivingPark notebooks use a *cache* directory to store analysis inputs and outputs. Inputs typically include PPMI Study Data and imaging data whereas outputs include processed images and other derivatives. Cache directories allow LivingPark notebooks to run in a few minutes as they reuse previously computed results. However, cache directories cannot be made public due to the PPMI Data Usage Agreement (DUA). Instead, they are stored on `login.bic.mni.mcgill.ca`, which requires a specific user name and password. In case you don't have access to the cache directory of this notebook, the next sections will download all the required imaging data from PPMI and recompute the results, which will take a few hours depending on your computer configuration. In the future, we will aim at storing this cache dataset on PPMI servers so that they can be accessed with a PPMI account. -->\n",
    "\n",
    "Let's initialize the notebook directory and software dependencies:"
   ]
  },
  {
   "cell_type": "code",
   "execution_count": 1,
   "id": "bc75df34",
   "metadata": {},
   "outputs": [
    {
     "name": "stdout",
     "output_type": "stream",
     "text": [
      "removing link inputs\n",
      "removing link outputs\n",
      "This notebook was run on 2022-11-07 16:39:15 UTC +0000\n"
     ]
    }
   ],
   "source": [
    "import livingpark_utils\n",
    "\n",
    "utils = livingpark_utils.LivingParkUtils()\n",
    "random_seed = 2\n",
    "utils.notebook_init()\n",
    "\n",
    "import warnings\n",
    "\n",
    "warnings.filterwarnings(\"ignore\")"
   ]
  },
  {
   "cell_type": "markdown",
   "id": "5e5e5826",
   "metadata": {},
   "source": [
    "## PPMI cohort preparation\n",
    "\n",
    "We will build a PPMI cohort that matches the one used in the original study (Table 1) as much as possible. As in other LivingPark replications, we will use the same sample size as the original study. Our cohort will be built directly from PPMI Study Data files so that it can be replicated and updated whenever necessary."
   ]
  },
  {
   "cell_type": "markdown",
   "id": "0e28da8f",
   "metadata": {},
   "source": [
    "### Study data download\n",
    "\n",
    "We will start by downloading the PPMI Study Data files required to build our cohort: \n",
    "* demographics\n",
    "* disease duration\n",
    "* Montreal Cognitive Assessment\n",
    "* UPDRS\n",
    "* Hoehn and Yahr score\n",
    "* primary clinical diagnosis\n",
    "* cognitive categorization\n",
    "* medical condition\n"
   ]
  },
  {
   "cell_type": "markdown",
   "id": "80f75e88",
   "metadata": {},
   "source": [
    "We will use the LivingPark utils library to download these files from the notebook. If files are already present in the notebook cache, they won't be downloaded again. Otherwise, you will need to enter your PPMI username and password. **In case you don't have a PPMI account, you can request one [here](http://ppmi-info.org).**"
   ]
  },
  {
   "cell_type": "code",
   "execution_count": 2,
   "id": "e6bbcd7d",
   "metadata": {
    "scrolled": false
   },
   "outputs": [
    {
     "name": "stdout",
     "output_type": "stream",
     "text": [
      "Download skipped: No missing files!\n"
     ]
    }
   ],
   "source": [
    "required_files = [\n",
    "    \"Demographics.csv\",\n",
    "    \"Age_at_visit.csv\",\n",
    "    \"Primary_Clinical_Diagnosis.csv\",\n",
    "    \"Cognitive_Categorization.csv\",\n",
    "    \"Medical_Conditions_Log.csv\",\n",
    "    \"Concomitant_Medication_Log.csv\",\n",
    "    \"MDS_UPDRS_Part_III.csv\",\n",
    "    \"Participant_Status.csv\",\n",
    "    \"Socio-Economics.csv\",\n",
    "    \"Montreal_Cognitive_Assessment__MoCA_.csv\",\n",
    "    \"PD_Diagnosis_History.csv\",\n",
    "    \"LEDD_Concomitant_Medication_Log.csv\",\n",
    "]\n",
    "\n",
    "utils.download_ppmi_metadata(required_files, headless=False)"
   ]
  },
  {
   "cell_type": "markdown",
   "id": "1febe243",
   "metadata": {},
   "source": [
    "We will also need file `MRI_info.csv` produced by another LivingPark notebook available at https://github.com/LivingPark-MRI/livingpark-utils/blob/main/livingpark_utils/notebooks/mri_metadata.ipynb. This file contains a list of T1-weighted MRIs usable for VBM. "
   ]
  },
  {
   "cell_type": "code",
   "execution_count": 3,
   "id": "9dfe55b0",
   "metadata": {
    "scrolled": true
   },
   "outputs": [
    {
     "name": "stdout",
     "output_type": "stream",
     "text": [
      "File downloaded\n",
      "['COR', 'Coronal', 'Cal Head 24', 'Transverse', 'tra_T1_MPRAGE', 'TRA']\n",
      "['AX', 'axial', 'Phantom']\n",
      "{'Screening': 'SC', 'Baseline': 'BL', 'Month 12': 'V04', 'Month 24': 'V06', 'Month 36': 'V08', 'Month 48': 'V10', 'Symptomatic Therapy': 'ST', 'Unscheduled Visit 01': 'U01', 'Unscheduled Visit 02': 'U02', 'Premature Withdrawal': 'PW'}\n",
      "Saved in MRI_info.csv\n"
     ]
    }
   ],
   "source": [
    "from livingpark_utils.scripts import mri_metadata"
   ]
  },
  {
   "cell_type": "markdown",
   "id": "3bd761d6",
   "metadata": {},
   "source": [
    "### Inclusion criteria\n",
    "\n",
    "To replicate the cohort in the original study, we used the following inclusion and exclusion criteria among PPMI subjects.\n",
    "\n",
    "1. Early stage of the illness (Hoehn and Yahr I and II stage).\n",
    "\n",
    "2. T1-weighted MRI available and usable for VBM (see [MRI metadata notebook](https://github.com/LivingPark-MRI/livingpark-utils/blob/main/livingpark_utils/notebooks/mri_metadata.ipynb)).\n",
    "\n",
    "3. Testing at two timepoints 19.8 +- 2.7 months apart.\n",
    "\n",
    "4. MRI and MoCA collected 2 +- 4.1 weeks apart.\n",
    "\n",
    "5. During this evaluation, all patients were OFF medication (at both time points), and did not receive any drugs related to Parkinson’s disease for at least 12h before the sessions.\n",
    "\n",
    "6. MCI inclusion criteria:\n",
    "   - (i) objective: performance > 1.5 SD below standardized mean on two or more subtests within a cognitive domain. \n",
    "   - (ii)\tsubjective complaint of cognitive decline.\n",
    "   - (iii)\tabsence of significant decline in daily living activities.\n",
    "   - (iv)\tabsence of dementia as diagnosed by the evaluating neuropsychologist.\n",
    "   - (v)\tevidence of cognitive abnormalities that cannot be attributed to age.\n",
    "\n",
    "    Our sample: met PPMI criteria for MCI\n",
    "\n",
    "\n",
    "7. Control group:  met PPMI criteria for healthy controls\n",
    "\n",
    "Healthy controls also underwent a neuropsychological assessment and those with MCI were excluded. \n",
    "\n",
    "\n",
    "### Exclusion criteria\n",
    "\n",
    "1. Patients excluded if they have other comorbidities.\n",
    "2. Cognitively stable patients who converted to MCI at the neuropsychological assessment at Time 2 were excluded.\n",
    "\n",
    "### Group matching\n",
    "\n",
    "•\tNo significant differences were observed between the three groups with respect to sex, age and education. <br>\n",
    "•\tNo significant differences existed between the two patients groups with respect to time since diagnosis or disease advancement as measured by the motor part of the Unified Parkinson’s Disease Rating Scale at Time 1.\n"
   ]
  },
  {
   "cell_type": "code",
   "execution_count": 4,
   "id": "e5acc2b6",
   "metadata": {},
   "outputs": [
    {
     "name": "stdout",
     "output_type": "stream",
     "text": [
      "This notebook was run on 2022-11-07 16:39:30 UTC +0000\n",
      "File downloaded\n"
     ]
    },
    {
     "data": {
      "image/png": "[encoded data removed]",
      "text/plain": [
       "<Figure size 640x480 with 1 Axes>"
      ]
     },
     "metadata": {},
     "output_type": "display_data"
    },
    {
     "name": "stdout",
     "output_type": "stream",
     "text": [
      "Removed 40 records where PDSTATE=ON and EXAMTM<PDMEDTM\n",
      "Number of removed records: 5\n",
      "Found 0 records in Case 3.a\n",
      "Removed 1 record(s) with missing EXAMTM or PDMEDTM\n",
      "Cleaned file saved in MDS_UPDRS_Part_III_clean.csv\n",
      "True\n"
     ]
    },
    {
     "data": {
      "image/png": "[encoded data removed]",
      "text/plain": [
       "<Figure size 640x480 with 1 Axes>"
      ]
     },
     "metadata": {},
     "output_type": "display_data"
    }
   ],
   "source": [
    "import os\n",
    "import pandas as pd\n",
    "\n",
    "# Read data files\n",
    "\n",
    "\n",
    "# Demographics\n",
    "dem = pd.read_csv(os.path.join(utils.study_files_dir, \"Demographics.csv\"))[\n",
    "    [\"PATNO\", \"SEX\", \"BIRTHDT\"]\n",
    "]\n",
    "\n",
    "# Age at visit\n",
    "age = pd.read_csv(os.path.join(utils.study_files_dir, \"Age_at_visit.csv\"))[\n",
    "    [\"PATNO\", \"EVENT_ID\", \"AGE_AT_VISIT\"]\n",
    "]\n",
    "\n",
    "# Education\n",
    "edu = pd.read_csv(os.path.join(utils.study_files_dir, \"Socio-Economics.csv\"))[\n",
    "    [\"PATNO\", \"EDUCYRS\"]\n",
    "]\n",
    "\n",
    "# Diagnosis\n",
    "diag = pd.read_csv(\n",
    "    os.path.join(utils.study_files_dir, \"Primary_Clinical_Diagnosis.csv\")\n",
    ")[[\"PATNO\", \"EVENT_ID\", \"PRIMDIAG\", \"OTHNEURO\"]]\n",
    "\n",
    "\n",
    "# Dx status\n",
    "dx_status = pd.read_csv(os.path.join(utils.study_files_dir, \"Participant_Status.csv\"))[\n",
    "    [\"PATNO\", \"COHORT\"]\n",
    "]\n",
    "\n",
    "# Disease duration / year of diagnosis\n",
    "# med_cond = pd.read_csv(os.path.join(utils.study_files_dir, \"Medical_Conditions_Log.csv\"))[\n",
    "#    [\"PATNO\", \"EVENT_ID\", \"MHDIAGYR\", \"MHCAT\"]\n",
    "# ]\n",
    "\n",
    "\n",
    "# PD dx history / disease duration calc\n",
    "pd_hist = pd.read_csv(os.path.join(utils.study_files_dir, \"PD_Diagnosis_History.csv\"))[\n",
    "    [\"PATNO\", \"EVENT_ID\", \"PDDXDT\"]\n",
    "]\n",
    "\n",
    "\n",
    "# Cognitive Categorization\n",
    "cog_cat = pd.read_csv(\n",
    "    os.path.join(utils.study_files_dir, \"Cognitive_Categorization.csv\")\n",
    ")[[\"PATNO\", \"EVENT_ID\", \"COGSTATE\"]]\n",
    "\n",
    "\n",
    "# Medication\n",
    "meds = (\n",
    "    pd.read_csv(os.path.join(utils.study_files_dir, \"Concomitant_Medication_Log.csv\"))[\n",
    "        [\"PATNO\", \"EVENT_ID\", \"SEQNO\", \"CMTRT\"]\n",
    "    ]\n",
    "    .groupby([\"PATNO\", \"EVENT_ID\"])[[\"CMTRT\"]]\n",
    "    .aggregate(lambda x: tuple(x))\n",
    ")  # aggregate all meds in a tuple\n",
    "\n",
    "# L-Dopa\n",
    "ldopa = pd.read_csv(\n",
    "    os.path.join(utils.study_files_dir, \"LEDD_Concomitant_Medication_Log.csv\")\n",
    ")[[\"PATNO\", \"EVENT_ID\", \"LEDD\"]]\n",
    "\n",
    "# meds = pd.read_csv(os.path.join(utils.study_files_dir, \"Concomitant_Medication_Log.csv\"))[\n",
    "#    [\"PATNO\", \"EVENT_ID\", \"SEQNO\", \"CMTRT\"]\n",
    "# ]\n",
    "\n",
    "# UPDRS and Hoehh Yahr\n",
    "updrs = pd.read_csv(os.path.join(utils.study_files_dir, \"MDS_UPDRS_Part_III.csv\"))[\n",
    "    [\"PATNO\", \"EVENT_ID\", \"PDSTATE\", \"NP3TOT\", \"NHY\"]\n",
    "]\n",
    "\n",
    "# Clean UPDRS file. Impute missing ON/OFF values.\n",
    "# It produces MDS_UPDRS_Part_III_clean.csv file\n",
    "from livingpark_utils.scripts import pd_status\n",
    "\n",
    "updrs = pd.read_csv(\n",
    "    os.path.join(utils.study_files_dir, \"MDS_UPDRS_Part_III_clean.csv\")\n",
    ")[[\"PATNO\", \"EVENT_ID\", \"PDSTATE\", \"NP3TOT\", \"NHY\"]]\n",
    "\n",
    "# MoCA\n",
    "moca = pd.read_csv(\n",
    "    os.path.join(utils.study_files_dir, \"Montreal_Cognitive_Assessment__MoCA_.csv\")\n",
    ")[[\"PATNO\", \"EVENT_ID\", \"MCATOT\", \"INFODT\"]]\n",
    "# MoCA - Use screening instead of baseline.\n",
    "moca = moca[moca[\"EVENT_ID\"] != \"BL\"]\n",
    "moca[\"EVENT_ID\"].mask(moca[\"EVENT_ID\"] == \"SC\", \"BL\", inplace=True)"
   ]
  },
  {
   "cell_type": "code",
   "execution_count": 5,
   "id": "1e2c4910",
   "metadata": {},
   "outputs": [],
   "source": [
    "import numpy as np\n",
    "\n",
    "# Calculate disease duration\n",
    "\n",
    "from dateutil.parser import parse\n",
    "from dateutil.relativedelta import relativedelta\n",
    "\n",
    "pdxhist = pd_hist[(pd_hist[\"EVENT_ID\"] == \"SC\") & pd_hist[\"PDDXDT\"].notna()]\n",
    "\n",
    "pd_dur = pd.read_csv(\n",
    "    os.path.join(utils.study_files_dir, \"MDS_UPDRS_Part_III_clean.csv\"),\n",
    "    low_memory=False,\n",
    ")[[\"PATNO\", \"EVENT_ID\", \"INFODT\"]]\n",
    "\n",
    "PDDXDT_map = dict(zip(pdxhist[\"PATNO\"].values, pdxhist[\"PDDXDT\"].values))\n",
    "pd_dur[\"PDDXDT\"] = pd_dur[\"PATNO\"].map(PDDXDT_map)\n",
    "\n",
    "pd_dur[\"PDXDUR\"] = pd_dur.apply(\n",
    "    lambda row: relativedelta(parse(row[\"INFODT\"]), parse(row[\"PDDXDT\"])).months\n",
    "    if row[\"PDDXDT\"] is not np.nan\n",
    "    else np.nan,\n",
    "    axis=1,\n",
    ")\n",
    "pd_dur.drop(labels=[\"INFODT\", \"PDDXDT\"], inplace=True, axis=1);"
   ]
  },
  {
   "cell_type": "code",
   "execution_count": 6,
   "id": "a0c03385",
   "metadata": {},
   "outputs": [
    {
     "data": {
      "text/plain": [
       "EVENT_ID\n",
       "BL     1173\n",
       "V10     359\n",
       "V06     324\n",
       "V04     279\n",
       "ST       10\n",
       "dtype: int64"
      ]
     },
     "execution_count": 6,
     "metadata": {},
     "output_type": "execute_result"
    }
   ],
   "source": [
    "# MRI availability\n",
    "\n",
    "mri = pd.read_csv(os.path.join(utils.study_files_dir, \"MRI_info.csv\"))\n",
    "mri[\"EVENT_ID\"] = mri[\"Visit code\"]\n",
    "mri[\"PATNO\"] = mri[\"Subject ID\"]\n",
    "mri[\"Sex\"] = mri[\"Sex\"].map({\"F\": 0, \"M\": 1})\n",
    "mri = mri.drop([\"Subject ID\", \"Visit code\", \"Visit\", \"Age\", \"Sex\"], axis=1)\n",
    "mri.groupby(\"EVENT_ID\").size().sort_values(ascending=False).head(5)"
   ]
  },
  {
   "cell_type": "markdown",
   "id": "e5cbf4f3",
   "metadata": {},
   "source": [
    "## Data aggregation\n",
    "\n",
    "Merge the data into a single dataframe\n",
    "- MRI scan,\n",
    "- Demographics (sex, age at visit),\n",
    "- Education (years of education),\n",
    "- Diagnosis (primary diagnosis),\n",
    "- Dx status (cohort),\n",
    "- Medical condition (year of dx, dx category),\n",
    "- Cognitive category (cognitive state),\n",
    "- Medication\n",
    "- UPDRS (ON/OFF state, UPDRS III total score, Hoehn and Yahr stage)\n",
    "- MoCA (total score)\n"
   ]
  },
  {
   "cell_type": "code",
   "execution_count": 7,
   "id": "81b98e79",
   "metadata": {},
   "outputs": [],
   "source": [
    "# Merge into a single df\n",
    "\n",
    "df = (\n",
    "    mri.merge(diag, on=[\"PATNO\", \"EVENT_ID\"])\n",
    "    .merge(age, on=[\"PATNO\", \"EVENT_ID\"], how=\"left\")\n",
    "    .merge(dem, on=[\"PATNO\"])\n",
    "    .merge(edu, on=[\"PATNO\"], how=\"left\")\n",
    "    .merge(dx_status, on=[\"PATNO\"])\n",
    "    .merge(pd_hist, on=[\"PATNO\", \"EVENT_ID\"], how=\"left\")\n",
    "    .merge(cog_cat, on=[\"PATNO\", \"EVENT_ID\"])\n",
    "    .merge(meds, on=[\"PATNO\", \"EVENT_ID\"], how=\"left\")\n",
    "    .merge(updrs, on=[\"PATNO\", \"EVENT_ID\"])\n",
    "    .merge(moca, on=[\"PATNO\", \"EVENT_ID\"])\n",
    "    .merge(pd_dur, on=[\"PATNO\", \"EVENT_ID\"], how=\"left\")\n",
    "    .drop_duplicates()\n",
    "    .groupby(\"PATNO\")\n",
    "    .filter(lambda g: g[\"EVENT_ID\"].nunique() > 1)\n",
    ")"
   ]
  },
  {
   "cell_type": "markdown",
   "id": "c0b0de92",
   "metadata": {},
   "source": [
    "# Pair visits"
   ]
  },
  {
   "cell_type": "code",
   "execution_count": 8,
   "id": "a941a1c5",
   "metadata": {},
   "outputs": [],
   "source": [
    "# Find visit pairs\n",
    "\n",
    "from collections import defaultdict\n",
    "\n",
    "visit2month = {\n",
    "    \"BL\": 0,\n",
    "    \"V01\": 3,\n",
    "    \"V02\": 6,\n",
    "    \"V03\": 9,\n",
    "    \"V04\": 12,\n",
    "    \"V05\": 18,\n",
    "    \"V06\": 24,\n",
    "    \"V07\": 30,\n",
    "    \"V08\": 36,\n",
    "    \"V09\": 42,\n",
    "    \"V10\": 48,\n",
    "    \"V11\": 54,\n",
    "    \"V12\": 60,\n",
    "    \"V13\": 72,\n",
    "    \"V14\": 84,\n",
    "    \"V15\": 96,\n",
    "    \"V16\": 108,\n",
    "    \"V17\": 120,\n",
    "    \"V18\": 132,\n",
    "    \"V19\": 144,\n",
    "    \"V20\": 156,\n",
    "}\n",
    "\n",
    "\n",
    "def find_visit_pairs(months: int) -> int:\n",
    "    \"\"\"Return the pairs of visits closest to each other, given a target time difference in months.\"\"\"\n",
    "\n",
    "    diff = float(\"inf\")\n",
    "    diff_hist = defaultdict(dict)\n",
    "\n",
    "    for (k, v), (k_, v_) in combinations(visit2month.items(), 2):\n",
    "        if (diff_ := abs(abs(v - v_) - months)) <= diff:\n",
    "            diff = diff_\n",
    "            diff_hist[diff][k] = k_\n",
    "\n",
    "    return diff_hist[diff]"
   ]
  },
  {
   "cell_type": "code",
   "execution_count": 9,
   "id": "ad1c45be",
   "metadata": {},
   "outputs": [],
   "source": [
    "def sample_cohort(df, /, *, n):\n",
    "    _df = df.drop_duplicates(subset=[\"PATNO\"])\n",
    "    n = min(_df.index.size, n)\n",
    "    return _df.sample(n=n, replace=False, random_state=1)\n",
    "    return _df[_df.index.isin(sample)]"
   ]
  },
  {
   "cell_type": "markdown",
   "id": "a5f863f7",
   "metadata": {},
   "source": [
    "# Select healthy controls"
   ]
  },
  {
   "cell_type": "code",
   "execution_count": 10,
   "id": "57d3f98d",
   "metadata": {},
   "outputs": [],
   "source": [
    "# diagnosis - use screening instead of baseline when PRIMDIAG is missing at baseline\n",
    "\n",
    "diag_bl = diag[diag[\"EVENT_ID\"] == \"BL\"]\n",
    "diag_other = diag[diag[\"EVENT_ID\"] != \"BL\"]\n",
    "diag_other[\"EVENT_ID\"].mask(diag_other[\"EVENT_ID\"] == \"SC\", \"BL\", inplace=True)\n",
    "\n",
    "diag_hc = pd.concat([diag_bl, diag_other])\n",
    "diag_hc = diag_hc.drop_duplicates()"
   ]
  },
  {
   "cell_type": "code",
   "execution_count": 11,
   "id": "764ae541",
   "metadata": {},
   "outputs": [],
   "source": [
    "# merge into a single df\n",
    "\n",
    "df_hc = (\n",
    "    mri.merge(diag_hc, on=[\"PATNO\", \"EVENT_ID\"])\n",
    "    .merge(age, on=[\"PATNO\", \"EVENT_ID\"], how=\"left\")\n",
    "    .merge(dem, on=[\"PATNO\"], how=\"left\")\n",
    "    .merge(dx_status, on=[\"PATNO\"])\n",
    "    .merge(edu, on=[\"PATNO\"], how=\"left\")\n",
    "    .merge(cog_cat, on=[\"PATNO\", \"EVENT_ID\"], how=\"left\")\n",
    "    .merge(moca, on=[\"PATNO\", \"EVENT_ID\"], how=\"left\")\n",
    "    .merge(pd_hist, on=[\"PATNO\", \"EVENT_ID\"], how=\"left\")\n",
    "    .merge(meds, on=[\"PATNO\", \"EVENT_ID\"], how=\"left\")\n",
    "    .merge(updrs, on=[\"PATNO\", \"EVENT_ID\"], how=\"left\")\n",
    "    .merge(moca, on=[\"PATNO\", \"EVENT_ID\"], how=\"left\")\n",
    "    .merge(pd_dur, on=[\"PATNO\", \"EVENT_ID\"], how=\"left\")\n",
    "    .drop_duplicates()\n",
    "    .groupby(\"PATNO\")\n",
    "    .filter(lambda g: g[\"EVENT_ID\"].nunique() > 1)\n",
    ")"
   ]
  },
  {
   "cell_type": "code",
   "execution_count": 12,
   "id": "12083a57",
   "metadata": {},
   "outputs": [
    {
     "name": "stdout",
     "output_type": "stream",
     "text": [
      "Unique HC subjects per visit pairs:\n",
      "BL  & V04 =  62 | Month difference: 12\n",
      "BL  & V06 =   9 | Month difference: 24\n",
      "BL  & V08 =   2 | Month difference: 36\n",
      "BL  & V10 =  11 | Month difference: 48\n",
      "V04 & V06 =   8 | Month difference: 12\n",
      "V04 & V08 =   1 | Month difference: 24\n",
      "V04 & V10 =  10 | Month difference: 36\n",
      "V06 & V08 =   2 | Month difference: 12\n",
      "V06 & V10 =   2 | Month difference: 24\n"
     ]
    }
   ],
   "source": [
    "# find how many visit pairs are available for HC group\n",
    "\n",
    "from itertools import combinations\n",
    "\n",
    "events = [\"BL\", \"V04\", \"V06\", \"V08\", \"V10\"]\n",
    "\n",
    "print(\"Unique HC subjects per visit pairs:\")\n",
    "for c in combinations(events, 2):\n",
    "    v0 = set(\n",
    "        df_hc[\n",
    "            (df_hc[\"EVENT_ID\"] == c[0])\n",
    "            & (df_hc[\"PRIMDIAG\"] == 17)\n",
    "            & (df_hc[\"COHORT\"] == 2)\n",
    "        ][\"PATNO\"].values\n",
    "    )\n",
    "    v1 = set(\n",
    "        df_hc[\n",
    "            (df_hc[\"EVENT_ID\"] == c[1])\n",
    "            & (df_hc[\"PRIMDIAG\"] == 17)\n",
    "            & (df_hc[\"COHORT\"] == 2)\n",
    "        ][\"PATNO\"].values\n",
    "    )\n",
    "    if len(v0 & v1):\n",
    "        print(\n",
    "            f\"{c[0]:3} & {c[1]:3} = {len(v0 & v1):>3}\"\n",
    "            f\" | Month difference: {visit2month[c[1]] - visit2month[c[0]]}\"\n",
    "        )\n",
    "#       print(v0 & v1)"
   ]
  },
  {
   "cell_type": "code",
   "execution_count": 13,
   "id": "35a45f41",
   "metadata": {},
   "outputs": [],
   "source": [
    "def pairs_hc(arg):\n",
    "\n",
    "    visit_pairs = find_visit_pairs(arg)\n",
    "    visit_df = df_hc.copy()\n",
    "    visit_df[\"NEXT_VISIT\"] = visit_df[\"EVENT_ID\"].map(visit_pairs)\n",
    "\n",
    "    visit_df = visit_df.merge(\n",
    "        visit_df.drop(\n",
    "            [\"AGE_AT_VISIT\", \"SEX\", \"NEXT_VISIT\", \"EDUCYRS\"],\n",
    "            axis=1,\n",
    "        ),\n",
    "        left_on=[\n",
    "            \"PATNO\",\n",
    "            \"NEXT_VISIT\",\n",
    "        ],\n",
    "        right_on=[\n",
    "            \"PATNO\",\n",
    "            \"EVENT_ID\",\n",
    "        ],\n",
    "        suffixes=(None, \"_NX\"),\n",
    "    ).drop_duplicates()\n",
    "\n",
    "    return visit_df.loc[\n",
    "        (visit_df[\"PRIMDIAG\"] == 17)\n",
    "        & (visit_df[\"COHORT\"] == 2)\n",
    "        & (visit_df[\"PRIMDIAG_NX\"] == 17)\n",
    "        & (visit_df[\"COHORT_NX\"] == 2)\n",
    "    ]"
   ]
  },
  {
   "cell_type": "code",
   "execution_count": 14,
   "id": "760a4823",
   "metadata": {},
   "outputs": [
    {
     "name": "stdout",
     "output_type": "stream",
     "text": [
      "Unique HC number before selection:  67\n",
      "18 HC subjects were randomly selected\n"
     ]
    }
   ],
   "source": [
    "# build database of all available HC\n",
    "hc_12 = pairs_hc(12)\n",
    "hc_24 = pairs_hc(24)\n",
    "hc = pd.concat([hc_12, hc_24], ignore_index=True)\n",
    "hc = hc.drop_duplicates(subset=[\"PATNO\"])\n",
    "print(\"Unique HC number before selection: \", hc[\"PATNO\"].unique().size)\n",
    "\n",
    "# select 18 HC patients\n",
    "hc = hc.sample(n=18, random_state=3)\n",
    "print(len(hc), \"HC subjects were randomly selected\")"
   ]
  },
  {
   "cell_type": "markdown",
   "id": "1265eec2",
   "metadata": {},
   "source": [
    "## Data aggregation for PD\n",
    "\n",
    "Merge the data into a single dataframe\n",
    "- MRI scan,\n",
    "- Demographics (sex, age at visit),\n",
    "- Education (years of education),\n",
    "- Diagnosis (primary diagnosis),\n",
    "- Dx status (cohort),\n",
    "- Medical condition (year of dx, dx category),\n",
    "- Cognitive category (cognitive state),\n",
    "- Medication\n",
    "- UPDRS (ON/OFF state, UPDRS III total score, Hoehn and Yahr stage)\n",
    "- MoCA (total score)\n"
   ]
  },
  {
   "cell_type": "code",
   "execution_count": 15,
   "id": "921e614e",
   "metadata": {},
   "outputs": [],
   "source": [
    "# Merge into a single df for PD\n",
    "\n",
    "df = (\n",
    "    mri.merge(diag, on=[\"PATNO\", \"EVENT_ID\"])\n",
    "    .merge(age, on=[\"PATNO\", \"EVENT_ID\"], how=\"left\")\n",
    "    .merge(dem, on=[\"PATNO\"])\n",
    "    .merge(edu, on=[\"PATNO\"], how=\"left\")\n",
    "    .merge(dx_status, on=[\"PATNO\"])\n",
    "    .merge(pd_hist, on=[\"PATNO\", \"EVENT_ID\"], how=\"left\")\n",
    "    .merge(cog_cat, on=[\"PATNO\", \"EVENT_ID\"])\n",
    "    .merge(meds, on=[\"PATNO\", \"EVENT_ID\"], how=\"left\")\n",
    "    .merge(updrs, on=[\"PATNO\", \"EVENT_ID\"])\n",
    "    .merge(moca, on=[\"PATNO\", \"EVENT_ID\"])\n",
    "    .merge(pd_dur, on=[\"PATNO\", \"EVENT_ID\"], how=\"left\")\n",
    "    .drop_duplicates()\n",
    "    .groupby(\"PATNO\")\n",
    "    .filter(lambda g: g[\"EVENT_ID\"].nunique() > 1)\n",
    ")"
   ]
  },
  {
   "cell_type": "markdown",
   "id": "1e94d8a4",
   "metadata": {},
   "source": [
    "## Number of available visit pairs - PD meeting all the criteria"
   ]
  },
  {
   "cell_type": "code",
   "execution_count": 16,
   "id": "88d316e5",
   "metadata": {},
   "outputs": [
    {
     "name": "stdout",
     "output_type": "stream",
     "text": [
      "Unique PD-non-MCI subjects per visit pairs:\n",
      "BL  & V04 =   9 | Month difference: 12\n",
      "V04 & V06 =  22 | Month difference: 12\n",
      "V04 & V10 =  24 | Month difference: 36\n",
      "V06 & V10 =  31 | Month difference: 24\n"
     ]
    }
   ],
   "source": [
    "# Pair PD-non-MCI\n",
    "# Include Primdiag 1 & Cogstate 1 & Cohort 1 & [NHY 1 | 2] & MoCA & no comorb & UPDRS OFF\n",
    "\n",
    "from itertools import combinations\n",
    "\n",
    "events = [\"BL\", \"V04\", \"V06\", \"V08\", \"V10\"]\n",
    "\n",
    "print(\"Unique PD-non-MCI subjects per visit pairs:\")\n",
    "for c in combinations(events, 2):\n",
    "    v0 = set(\n",
    "        df[\n",
    "            (df[\"EVENT_ID\"] == c[0])\n",
    "            & (df[\"PRIMDIAG\"] == 1)\n",
    "            & (df[\"COGSTATE\"] == 1)\n",
    "            & (df[\"COHORT\"] == 1)\n",
    "            & df[\"NHY\"].isin([\"1\", \"2\"])\n",
    "            & (df[\"MCATOT\"].notnull())\n",
    "            & (df[\"OTHNEURO\"].isnull())\n",
    "            & (df[\"PDSTATE\"] == \"OFF\")\n",
    "        ][\"PATNO\"].values\n",
    "    )\n",
    "    v1 = set(\n",
    "        df[\n",
    "            (df[\"EVENT_ID\"] == c[1])\n",
    "            & (df[\"PRIMDIAG\"] == 1)\n",
    "            & (df[\"COGSTATE\"] == 1)\n",
    "            & (df[\"COHORT\"] == 1)\n",
    "            & df[\"NHY\"].isin([\"1\", \"2\"])\n",
    "            & (df[\"MCATOT\"].notnull())\n",
    "            & (df[\"OTHNEURO\"].isnull())\n",
    "            & (df[\"PDSTATE\"] == \"OFF\")\n",
    "        ][\"PATNO\"].values\n",
    "    )\n",
    "    if len(v0 & v1):\n",
    "        print(\n",
    "            f\"{c[0]:3} & {c[1]:3} = {len(v0 & v1):>3}\"\n",
    "            f\" | Month difference: {visit2month[c[1]] - visit2month[c[0]]}\"\n",
    "        )"
   ]
  },
  {
   "cell_type": "code",
   "execution_count": 17,
   "id": "3c2bdd32",
   "metadata": {},
   "outputs": [
    {
     "name": "stdout",
     "output_type": "stream",
     "text": [
      "Unique PD-MCI subjects per visit pairs:\n",
      "V04 & V06 =   1 | Month difference: 12\n",
      "V04 & V10 =   2 | Month difference: 36\n",
      "V06 & V10 =   5 | Month difference: 24\n"
     ]
    }
   ],
   "source": [
    "# Pair PD-MCI\n",
    "# Include Primdiag 1 & Cogstate 1 & Cohort 1 & [NHY 1 | 2] & MoCA & no comorb & UPDRS OFF\n",
    "\n",
    "from itertools import combinations\n",
    "\n",
    "events = [\"BL\", \"V04\", \"V06\", \"V08\", \"V10\"]\n",
    "\n",
    "print(\"Unique PD-MCI subjects per visit pairs:\")\n",
    "for c in combinations(events, 2):\n",
    "    v0 = set(\n",
    "        df[\n",
    "            (df[\"EVENT_ID\"] == c[0])\n",
    "            & (df[\"PRIMDIAG\"] == 1)\n",
    "            & (df[\"COGSTATE\"] == 2)\n",
    "            & (df[\"COHORT\"] == 1)\n",
    "            & df[\"NHY\"].isin([\"1\", \"2\"])\n",
    "            & (df[\"MCATOT\"].notnull())\n",
    "            & (df[\"OTHNEURO\"].isnull())\n",
    "            & (df[\"PDSTATE\"] == \"OFF\")\n",
    "        ][\"PATNO\"].values\n",
    "    )\n",
    "    v1 = set(\n",
    "        df[\n",
    "            (df[\"EVENT_ID\"] == c[1])\n",
    "            & (df[\"PRIMDIAG\"] == 1)\n",
    "            & (df[\"COGSTATE\"] == 2)\n",
    "            & (df[\"COHORT\"] == 1)\n",
    "            & df[\"NHY\"].isin([\"1\", \"2\"])\n",
    "            & (df[\"MCATOT\"].notnull())\n",
    "            & (df[\"OTHNEURO\"].isnull())\n",
    "            & (df[\"PDSTATE\"] == \"OFF\")\n",
    "        ][\"PATNO\"].values\n",
    "    )\n",
    "    if len(v0 & v1):\n",
    "        print(\n",
    "            f\"{c[0]:3} & {c[1]:3} = {len(v0 & v1):>3}\"\n",
    "            f\" | Month difference: {visit2month[c[1]] - visit2month[c[0]]}\"\n",
    "        )\n",
    "#        print(v0 & v1)"
   ]
  },
  {
   "cell_type": "markdown",
   "id": "7a91e536",
   "metadata": {},
   "source": [
    "# Select PD-MCI patients\n",
    "\n",
    "This script has been written with a prior knowledge that there are less PD-MCI patients who meet the inclusion criteria than PD-non-MCI patients in PPMI."
   ]
  },
  {
   "cell_type": "code",
   "execution_count": 18,
   "id": "ff16f546",
   "metadata": {},
   "outputs": [],
   "source": [
    "def pairs_mci(arg):\n",
    "\n",
    "    visit_pairs = find_visit_pairs(arg)\n",
    "    visit_df = df.copy()\n",
    "    visit_df[\"NEXT_VISIT\"] = visit_df[\"EVENT_ID\"].map(visit_pairs)\n",
    "\n",
    "    visit_df = visit_df.merge(\n",
    "        visit_df.drop(\n",
    "            [\"AGE_AT_VISIT\", \"SEX\", \"NEXT_VISIT\", \"EDUCYRS\"],\n",
    "            axis=1,\n",
    "        ),\n",
    "        left_on=[\n",
    "            \"PATNO\",\n",
    "            \"NEXT_VISIT\",\n",
    "        ],\n",
    "        right_on=[\n",
    "            \"PATNO\",\n",
    "            \"EVENT_ID\",\n",
    "        ],\n",
    "        suffixes=(None, \"_NX\"),\n",
    "    ).drop_duplicates()\n",
    "\n",
    "    return visit_df.loc[\n",
    "        (visit_df[\"COGSTATE\"] == 2)\n",
    "        & (visit_df[\"PRIMDIAG\"] == 1)\n",
    "        & (visit_df[\"COHORT\"] == 1)\n",
    "        & visit_df[\"NHY\"].isin([\"1\", \"2\"])\n",
    "        & (visit_df[\"MCATOT\"].notnull())\n",
    "        & (visit_df[\"OTHNEURO\"].isnull())\n",
    "        & (visit_df[\"PDSTATE\"] == \"OFF\")\n",
    "        & (visit_df[\"COGSTATE_NX\"] == 2)\n",
    "        & (visit_df[\"PRIMDIAG_NX\"] == 1)\n",
    "        & (visit_df[\"COHORT_NX\"] == 1)\n",
    "        & visit_df[\"NHY_NX\"].isin([\"1\", \"2\"])\n",
    "        & (visit_df[\"MCATOT_NX\"].notnull())\n",
    "        & (visit_df[\"OTHNEURO_NX\"].isnull())\n",
    "        & (visit_df[\"PDSTATE_NX\"] == \"OFF\")\n",
    "    ]"
   ]
  },
  {
   "cell_type": "code",
   "execution_count": 19,
   "id": "ce3823ef",
   "metadata": {},
   "outputs": [
    {
     "name": "stdout",
     "output_type": "stream",
     "text": [
      "The final PD-MCI sample size is  8  patients.\n"
     ]
    }
   ],
   "source": [
    "mci = pairs_mci(12)\n",
    "mci = mci.drop_duplicates(subset=[\"PATNO\"])\n",
    "\n",
    "if len(mci) > 16:\n",
    "    print(\"There is enough PD-MCI patients. \", len(mci), \" PD-MCI patients found\")\n",
    "else:\n",
    "    mci_24 = pairs_mci(24)\n",
    "    mci = pd.concat([mci, mci_24], ignore_index=True)\n",
    "    mci = mci.drop_duplicates(subset=[\"PATNO\"])\n",
    "\n",
    "    if len(mci) > 16:\n",
    "        print(\"There is enough PD-MCI patients. \", len(mci), \" PD-MCI patients found\")\n",
    "    else:\n",
    "        mci_36 = pairs_mci(36)\n",
    "        mci = pd.concat([mci, mci_36], ignore_index=True)\n",
    "        mci = mci.drop_duplicates(subset=[\"PATNO\"])\n",
    "        print(\"The final PD-MCI sample size is \", len(mci), \" patients.\")"
   ]
  },
  {
   "cell_type": "markdown",
   "id": "e7760bdf",
   "metadata": {},
   "source": [
    "# Select PD-non-MCI patients\n",
    "\n",
    "All available pairs for PD-non-MCI patients are selected in this step. They will be matched to a smaller PD-MCI cohort"
   ]
  },
  {
   "cell_type": "code",
   "execution_count": 20,
   "id": "e7d88d88",
   "metadata": {},
   "outputs": [],
   "source": [
    "def pairs_nonmci(arg):\n",
    "\n",
    "    visit_pairs = find_visit_pairs(arg)\n",
    "    visit_df = df.copy()\n",
    "    visit_df[\"NEXT_VISIT\"] = visit_df[\"EVENT_ID\"].map(visit_pairs)\n",
    "\n",
    "    visit_df = visit_df.merge(\n",
    "        visit_df.drop(\n",
    "            [\"AGE_AT_VISIT\", \"SEX\", \"NEXT_VISIT\", \"EDUCYRS\"],\n",
    "            axis=1,\n",
    "        ),\n",
    "        left_on=[\n",
    "            \"PATNO\",\n",
    "            \"NEXT_VISIT\",\n",
    "        ],\n",
    "        right_on=[\n",
    "            \"PATNO\",\n",
    "            \"EVENT_ID\",\n",
    "        ],\n",
    "        suffixes=(None, \"_NX\"),\n",
    "    ).drop_duplicates()\n",
    "\n",
    "    return visit_df.loc[\n",
    "        (visit_df[\"COGSTATE\"] == 1)\n",
    "        & (visit_df[\"PRIMDIAG\"] == 1)\n",
    "        & (visit_df[\"COHORT\"] == 1)\n",
    "        & visit_df[\"NHY\"].isin([\"1\", \"2\"])\n",
    "        & (visit_df[\"MCATOT\"].notnull())\n",
    "        & (visit_df[\"OTHNEURO\"].isnull())\n",
    "        & (visit_df[\"PDSTATE\"] == \"OFF\")\n",
    "        & (visit_df[\"COGSTATE_NX\"] == 1)\n",
    "        & (visit_df[\"PRIMDIAG_NX\"] == 1)\n",
    "        & (visit_df[\"COHORT_NX\"] == 1)\n",
    "        & visit_df[\"NHY_NX\"].isin([\"1\", \"2\"])\n",
    "        & (visit_df[\"MCATOT_NX\"].notnull())\n",
    "        & (visit_df[\"OTHNEURO_NX\"].isnull())\n",
    "        & (visit_df[\"PDSTATE_NX\"] == \"OFF\")\n",
    "    ]"
   ]
  },
  {
   "cell_type": "code",
   "execution_count": 21,
   "id": "e7f27671",
   "metadata": {},
   "outputs": [
    {
     "name": "stdout",
     "output_type": "stream",
     "text": [
      "There are  50  PD-non-MCI patients to match PD-MCI group.\n"
     ]
    }
   ],
   "source": [
    "wo_mci_12 = pairs_nonmci(12)\n",
    "wo_mci_24 = pairs_nonmci(24)\n",
    "wo_mci_all = pd.concat([wo_mci_12, wo_mci_24], ignore_index=True)\n",
    "wo_mci_all = wo_mci_all.drop_duplicates(subset=[\"PATNO\"])\n",
    "\n",
    "print(\"There are \", len(wo_mci_all), \" PD-non-MCI patients to match PD-MCI group.\")"
   ]
  },
  {
   "cell_type": "markdown",
   "id": "1487ffb9",
   "metadata": {},
   "source": [
    "# Group matching\n",
    "\n",
    "Match PD-non-MCI sample to the smaller PD-MCI cohort\n",
    "\n",
    "We implemented a nearest-neighbor matching loop based on the Euclidean distance. \n",
    "We will match PD-MCI and PD-non-MCI groups for age, sex, education, UPDRS, and MoCA."
   ]
  },
  {
   "cell_type": "code",
   "execution_count": 22,
   "id": "be0acf37",
   "metadata": {},
   "outputs": [],
   "source": [
    "def nn(x, df, matched_vars):\n",
    "    \"\"\"\n",
    "    Find index of nearest neighbor of x in df\n",
    "    \"\"\"\n",
    "\n",
    "    # Select subjects\n",
    "    df_match = df\n",
    "\n",
    "    # Compute squared distance between x and all elements in df, using normalized variables\n",
    "    df_match[\"dist\"] = sum(\n",
    "        (df_match[f\"{var}\"] - x[f\"{var}\"].values[0]) ** 2 for var in matched_vars\n",
    "    )\n",
    "\n",
    "    # Return the element in df with the smallest distance\n",
    "    df_match.sort_values(\"dist\", inplace=True)\n",
    "    return df_match.head(\n",
    "        1\n",
    "    )  ## there's probably a better way to do it but it should work\n",
    "\n",
    "\n",
    "def match(n, group1_df, group2_df, matched_vars):\n",
    "    \"\"\"\n",
    "    Randomly pick n elements in group1_df, then find n matching elements in group2_df.\n",
    "    Ensure that each group only contains 1 or less element from each patient and that\n",
    "    no patient has elements in both groups.\n",
    "    \"\"\"\n",
    "\n",
    "    from numpy.random import choice, seed\n",
    "\n",
    "    # Select n random patients in group1\n",
    "    group1_patnos = sorted(pd.unique(group1_df[\"PATNO\"]))\n",
    "    seed(0)  # change this to bootstrap population\n",
    "    group1_patnos_sample = choice(\n",
    "        group1_patnos, n, replace=True\n",
    "    )  # !! have to replace due to a small cohort\n",
    "\n",
    "    # Remove the selected patients from group2\n",
    "    for p in group1_patnos_sample:\n",
    "        group2_df = group2_df[group2_df[\"PATNO\"] != p]\n",
    "\n",
    "    group1_matched = pd.DataFrame(columns=group1_df.columns)\n",
    "    group2_matched = pd.DataFrame(columns=group1_df.columns)\n",
    "\n",
    "    for p in group1_patnos_sample:  # for each patient in sampled list\n",
    "        # Pick a random element from this patient in group1\n",
    "        s = group1_df[group1_df[\"PATNO\"] == p].sample(1)\n",
    "        # Find the best match in group2\n",
    "        t = nn(s, group2_df, matched_vars)\n",
    "        # Add s and t to matched groups\n",
    "        group1_matched = group1_matched.append(s)\n",
    "        group2_matched = group2_matched.append(t)\n",
    "        # Remove t's patient from group 2 so that it doesn't get selected again\n",
    "        group2_df = group2_df[group2_df[\"PATNO\"] != t[\"PATNO\"].values[0]]\n",
    "\n",
    "    return group1_matched, group2_matched"
   ]
  },
  {
   "cell_type": "code",
   "execution_count": 23,
   "id": "a5d7cbfe",
   "metadata": {},
   "outputs": [
    {
     "name": "stdout",
     "output_type": "stream",
     "text": [
      "There is enough PD-non-MCI patients.  15  patients included in the analysis.\n"
     ]
    }
   ],
   "source": [
    "# age is not used for matching. if used, the groups differ in MoCA and T2-T1 time\n",
    "\n",
    "matched_vars = [\"SEX\", \"MCATOT\", \"EDUCYRS\", \"NP3TOT\", \"PDXDUR\"]\n",
    "\n",
    "\n",
    "# Apply matching to get 15 PD-non-MCI patients\n",
    "mci_matched, wo_mci_matched = match(15, mci, wo_mci_all, matched_vars)\n",
    "patids = pd.unique(pd.concat([mci_matched, wo_mci_matched], axis=0)[\"PATNO\"])\n",
    "mci_matched = mci_matched.drop_duplicates(subset=[\"PATNO\"])\n",
    "\n",
    "if len(wo_mci_matched) > 14:\n",
    "    print(\n",
    "        \"There is enough PD-non-MCI patients. \",\n",
    "        len(wo_mci_matched),\n",
    "        \" patients included in the analysis.\",\n",
    "    )\n",
    "else:\n",
    "    print(\n",
    "        \"There is not enough PD-non-MCI patients. \",\n",
    "        len(wo_mci_matched),\n",
    "        \" patients included in the analysis.\",\n",
    "    )"
   ]
  },
  {
   "cell_type": "markdown",
   "id": "d99c0bc7",
   "metadata": {},
   "source": [
    "# Descriptive statistics"
   ]
  },
  {
   "cell_type": "code",
   "execution_count": 24,
   "id": "b8ff232f",
   "metadata": {},
   "outputs": [],
   "source": [
    "# get UPDRS for patients during ON state\n",
    "\n",
    "wo_mci_patno = wo_mci_matched[\"PATNO\"]\n",
    "wo_mci_patno = wo_mci_patno.tolist()\n",
    "wo_mci_updrs_on = updrs[[\"PATNO\", \"EVENT_ID\", \"PDSTATE\", \"NP3TOT\"]]\n",
    "wo_mci_updrs_on = wo_mci_updrs_on[\n",
    "    (wo_mci_updrs_on[\"PDSTATE\"] == \"ON\") & (wo_mci_updrs_on[\"PATNO\"].isin(wo_mci_patno))\n",
    "]\n",
    "\n",
    "mci_patno = mci_matched[\"PATNO\"]\n",
    "mci_patno = mci_patno.tolist()\n",
    "mci_updrs_on = updrs[[\"PATNO\", \"EVENT_ID\", \"PDSTATE\", \"NP3TOT\"]]\n",
    "mci_updrs_on = mci_updrs_on[\n",
    "    (mci_updrs_on[\"PDSTATE\"] == \"ON\") & (mci_updrs_on[\"PATNO\"].isin(mci_patno))\n",
    "]\n",
    "\n",
    "wo_mci_updrs = wo_mci_matched.merge(\n",
    "    wo_mci_updrs_on, on=[\"PATNO\", \"EVENT_ID\"], how=\"left\", suffixes=(None, \"_on\")\n",
    ")\n",
    "mci_updrs = mci_matched.merge(\n",
    "    mci_updrs_on, on=[\"PATNO\", \"EVENT_ID\"], how=\"left\", suffixes=(None, \"_on\")\n",
    ")"
   ]
  },
  {
   "cell_type": "code",
   "execution_count": 25,
   "id": "8b228aa5",
   "metadata": {},
   "outputs": [],
   "source": [
    "# convert NHY and PATNO string to int\n",
    "mci_updrs[\"NHY\"] = pd.to_numeric(mci_updrs[\"NHY\"])\n",
    "mci_updrs[\"NHY_NX\"] = pd.to_numeric(mci_updrs[\"NHY_NX\"])\n",
    "wo_mci_updrs[\"NHY\"] = pd.to_numeric(wo_mci_updrs[\"NHY\"])\n",
    "wo_mci_updrs[\"NHY_NX\"] = pd.to_numeric(wo_mci_updrs[\"NHY_NX\"])\n",
    "hc[\"NHY\"] = pd.to_numeric(hc[\"NHY\"])\n",
    "hc[\"NHY_NX\"] = pd.to_numeric(hc[\"NHY_NX\"])\n",
    "\n",
    "mci_updrs[\"PATNO\"] = pd.to_numeric(mci_updrs[\"PATNO\"])\n",
    "wo_mci_updrs[\"PATNO\"] = pd.to_numeric(wo_mci_updrs[\"PATNO\"])\n",
    "\n",
    "mci_final = mci_updrs\n",
    "wo_mci_final = wo_mci_updrs"
   ]
  },
  {
   "cell_type": "code",
   "execution_count": 26,
   "id": "2cc8e663",
   "metadata": {},
   "outputs": [],
   "source": [
    "# calculate Duration T2-T1 (months)\n",
    "# based on MoCA assessment\n",
    "\n",
    "mci_final[\"INFODT\"] = pd.to_datetime(mci_final[\"INFODT\"])\n",
    "mci_final[\"INFODT_NX\"] = pd.to_datetime(mci_final[\"INFODT_NX\"])\n",
    "wo_mci_final[\"INFODT\"] = pd.to_datetime(wo_mci_final[\"INFODT\"])\n",
    "wo_mci_final[\"INFODT_NX\"] = pd.to_datetime(wo_mci_final[\"INFODT_NX\"])\n",
    "hc[\"INFODT_x\"] = pd.to_datetime(hc[\"INFODT_x\"])\n",
    "hc[\"INFODT_x_NX\"] = pd.to_datetime(hc[\"INFODT_x_NX\"])\n",
    "\n",
    "mci_final[\"durationT2_T1\"] = (\n",
    "    mci_final[\"INFODT_NX\"] - mci_final[\"INFODT\"]\n",
    ") / np.timedelta64(1, \"M\")\n",
    "wo_mci_final[\"durationT2_T1\"] = (\n",
    "    wo_mci_final[\"INFODT_NX\"] - wo_mci_final[\"INFODT\"]\n",
    ") / np.timedelta64(1, \"M\")\n",
    "hc[\"durationT2_T1\"] = (hc[\"INFODT_x_NX\"] - hc[\"INFODT_x\"]) / np.timedelta64(1, \"M\")"
   ]
  },
  {
   "cell_type": "code",
   "execution_count": 27,
   "id": "010aa2d2",
   "metadata": {},
   "outputs": [],
   "source": [
    "from collections.abc import Iterable\n",
    "\n",
    "import rich\n",
    "from rich.console import Console\n",
    "from rich.table import Table\n",
    "\n",
    "\n",
    "def cohort_summary(*, hc, nc, mci, title):\n",
    "    def gen_row(D, *, agg, col, f=\"4.1f\", sep=\" ± \"):\n",
    "        if not isinstance(agg, str) and isinstance(agg, Iterable):\n",
    "            return [f\"{sep}\".join([f\"{d.loc[a][col]:{f}}\" for a in agg]) for d in D]\n",
    "        else:\n",
    "            return [f\"{d.loc[agg][col]:{f}}\" for d in D]\n",
    "\n",
    "    def gender_ratio(df):\n",
    "        male_count = df[df[\"SEX\"] == 1][\"PATNO\"].nunique()\n",
    "        return f\"{male_count:.0f}, {male_count / df['PATNO'].nunique() * 100:.1f}%\"\n",
    "\n",
    "    D = [hc.describe(), nc.describe(), mci.describe()]\n",
    "\n",
    "    table = Table(title=title, box=rich.box.SIMPLE_HEAVY, show_footer=True)\n",
    "\n",
    "    table.add_column(\"Subject groups\", footer=\"Values expressed as mean ± SD.\")\n",
    "    table.add_column(\"HC\")\n",
    "    table.add_column(\"PD-non-MCI\")\n",
    "    table.add_column(\"PD-MCI\")\n",
    "    # table.add_column(\"[italic]p\")  # TODO\n",
    "\n",
    "    table.add_row(\"n\", *gen_row(D, agg=\"count\", col=\"PATNO\", f=\".0f\"))\n",
    "    table.add_row(\"Age (y)\", *gen_row(D, agg=[\"mean\", \"std\"], col=\"AGE_AT_VISIT\"))\n",
    "    table.add_row(\n",
    "        \"Age range\", *gen_row(D, agg=[\"min\", \"max\"], col=\"AGE_AT_VISIT\", sep=\" - \")\n",
    "    )\n",
    "    table.add_row(\n",
    "        \"Gender (male, %)\", gender_ratio(hc), gender_ratio(nc), gender_ratio(mci)\n",
    "    )\n",
    "    table.add_row(\"Education (y)\", *gen_row(D, agg=[\"mean\", \"std\"], col=\"EDUCYRS\"))\n",
    "    table.add_row(\n",
    "        \"Disease duration (y)\", \"\", *gen_row(D[1:], agg=[\"mean\", \"std\"], col=\"PDXDUR\")\n",
    "    )\n",
    "    # table.add_row(\"LEDD (mg/d) baseline\", )  # TODO\n",
    "\n",
    "    table.add_row(\"H&Y baseline\", *gen_row(D, agg=[\"mean\", \"std\"], col=\"NHY\"))\n",
    "    table.add_row(\"H&Y follow-up\", *gen_row(D, agg=[\"mean\", \"std\"], col=\"NHY_NX\"))\n",
    "    table.add_row(\n",
    "        \"UPDRS III OFF baseline\", \"\", *gen_row(D[1:], agg=[\"mean\", \"std\"], col=\"NP3TOT\")\n",
    "    )\n",
    "    table.add_row(\n",
    "        \"UPDRS III ON baseline\",\n",
    "        \"\",\n",
    "        *gen_row(D[1:], agg=[\"mean\", \"std\"], col=\"NP3TOT_on\"),\n",
    "    )\n",
    "    table.add_row(\n",
    "        \"UPDRS III OFF follow-up\",\n",
    "        \"\",\n",
    "        *gen_row(D[1:], agg=[\"mean\", \"std\"], col=\"NP3TOT_NX\"),\n",
    "    )\n",
    "    table.add_row(\n",
    "        \"MoCA baseline\", \"\", *gen_row(D[1:], agg=[\"mean\", \"std\"], col=\"MCATOT\")\n",
    "    )\n",
    "    table.add_row(\n",
    "        \"MoCA follow-up\", \"\", *gen_row(D[1:], agg=[\"mean\", \"std\"], col=\"MCATOT_NX\")\n",
    "    )\n",
    "    table.add_row(\n",
    "        \"Duration T2 - T1 (m)\", *gen_row(D, agg=[\"mean\", \"std\"], col=\"durationT2_T1\")\n",
    "    )\n",
    "\n",
    "    console = Console()\n",
    "    console.print(table)"
   ]
  },
  {
   "cell_type": "code",
   "execution_count": 28,
   "id": "db2f8af6",
   "metadata": {},
   "outputs": [
    {
     "name": "stdout",
     "output_type": "stream",
     "text": [
      "There are 3 out of 8 missing UPDRS T1 ON values in PD-MCI.\n",
      "There are 4 out of 15 missing UPDRS T1 ON values in PD-MCI.\n",
      "\n",
      " PD-MCI vs PD-non-MCI p values: sex p 1.0 edu p 0.3312465028741143 dx dur p 0.8452686662000946 updrs off t1 p 0.7317290112069847 updsr on t1 p 0.9080757141948341 moca p 0.09912615063010821 T2-T1 p 0.058441288551102574 \n",
      "\n",
      "There is a difference between PD-MCI and PD-non-MCI in sex frequency\n",
      "There is no difference between PD-MCI and PD-non-MCI in years of education\n",
      "There is no difference between PD-MCI and PD-non-MCI in disease duration\n",
      "There is no difference between PD-MCI and PD-non-MCI in UPDRS T1 OFF\n",
      "There is no difference between PD-MCI and PD-non-MCI in UPDRS T1 ON\n",
      "There is no difference between PD-MCI and PD-non-MCI in MoCA\n",
      "There is no difference between PD-MCI and PD-non-MCI in the time between T1 and T2\n",
      "\n",
      " HC vs PD p values: T2-T1 mci-hc 7.136247836689873e-05 T2-T1 nonmci-hc 0.00958517206655984 age mci-hc 0.8474443389423902 age nonmci-hc 0.20399353486052826 \n",
      "\n",
      "There is a difference between HC and PD-MCI in the time between T1 and T2\n",
      "There is a difference between HC and PD-non-MCI in the time between T1 and T2\n",
      "There is no difference between HC and PD-MCI in age\n",
      "There is no difference between HC and PD-non-MCI in age\n"
     ]
    }
   ],
   "source": [
    "# test for group differences\n",
    "\n",
    "from scipy.stats import ttest_ind, chi2_contingency\n",
    "\n",
    "[chi2_sex, p_sex, dof_sex, expected_sex] = chi2_contingency(\n",
    "    mci_final[\"AGE_AT_VISIT\"], wo_mci_final[\"AGE_AT_VISIT\"]\n",
    ")\n",
    "\n",
    "[t_age, p_age] = ttest_ind(mci_final[\"AGE_AT_VISIT\"], wo_mci_final[\"AGE_AT_VISIT\"])\n",
    "[t_edu, p_edu] = ttest_ind(mci_final[\"EDUCYRS\"], wo_mci_final[\"EDUCYRS\"])\n",
    "[t_dur, p_dur] = ttest_ind(mci_final[\"PDXDUR\"], wo_mci_final[\"PDXDUR\"])\n",
    "[t_updrs_off, p_updrs_off] = ttest_ind(mci_final[\"NP3TOT\"], wo_mci_final[\"NP3TOT\"])\n",
    "print(\n",
    "    \"There are\",\n",
    "    mci_final[\"NP3TOT_on\"].isna().sum(),\n",
    "    \"out of\",\n",
    "    len(mci_final),\n",
    "    \"missing UPDRS T1 ON values in PD-MCI.\",\n",
    ")\n",
    "print(\n",
    "    \"There are\",\n",
    "    wo_mci_final[\"NP3TOT_on\"].isna().sum(),\n",
    "    \"out of\",\n",
    "    len(wo_mci_final),\n",
    "    \"missing UPDRS T1 ON values in PD-MCI.\",\n",
    ")\n",
    "[t_updrs_on, p_updrs_on] = ttest_ind(\n",
    "    mci_final[\"NP3TOT_on\"].dropna(), wo_mci_final[\"NP3TOT_on\"].dropna()\n",
    ")\n",
    "[t_moca, p_moca] = ttest_ind(mci_final[\"MCATOT\"], wo_mci_final[\"MCATOT\"])\n",
    "[t_tdiff, p_tdiff] = ttest_ind(\n",
    "    mci_final[\"durationT2_T1\"], wo_mci_final[\"durationT2_T1\"]\n",
    ")\n",
    "\n",
    "print(\n",
    "    \"\\n\",\n",
    "    \"PD-MCI vs PD-non-MCI p values:\",\n",
    "    \"sex p\",\n",
    "    p_sex,\n",
    "    \"edu p\",\n",
    "    p_edu,\n",
    "    \"dx dur p\",\n",
    "    p_dur,\n",
    "    \"updrs off t1 p\",\n",
    "    p_updrs_off,\n",
    "    \"updsr on t1 p\",\n",
    "    p_updrs_on,\n",
    "    \"moca p\",\n",
    "    p_moca,\n",
    "    \"T2-T1 p\",\n",
    "    p_tdiff,\n",
    "    \"\\n\",\n",
    ")\n",
    "\n",
    "if chi2_sex > 0.05:\n",
    "    print(\"There is no difference between PD-MCI and PD-non-MCI in sex frequency\")\n",
    "else:\n",
    "    print(\"There is a difference between PD-MCI and PD-non-MCI in sex frequency\")\n",
    "if p_edu > 0.05:\n",
    "    print(\"There is no difference between PD-MCI and PD-non-MCI in years of education\")\n",
    "else:\n",
    "    print(\"There is a difference between PD-MCI and PD-non-MCI in years of education\")\n",
    "if p_dur > 0.05:\n",
    "    print(\"There is no difference between PD-MCI and PD-non-MCI in disease duration\")\n",
    "else:\n",
    "    print(\"There is a difference between PD-MCI and PD-non-MCI in disease duration\")\n",
    "if p_updrs_off > 0.05:\n",
    "    print(\"There is no difference between PD-MCI and PD-non-MCI in UPDRS T1 OFF\")\n",
    "else:\n",
    "    print(\"There is a difference between PD-MCI and PD-non-MCI in UPDRS T1 OFF\")\n",
    "if p_updrs_on > 0.05:\n",
    "    print(\"There is no difference between PD-MCI and PD-non-MCI in UPDRS T1 ON\")\n",
    "else:\n",
    "    print(\"There is a difference between PD-MCI and PD-non-MCI in UPDRS T1 ON\")\n",
    "if p_moca > 0.05:\n",
    "    print(\"There is no difference between PD-MCI and PD-non-MCI in MoCA\")\n",
    "else:\n",
    "    print(\"There is a difference between PD-MCI and PD-non-MCI in MoCA\")\n",
    "if p_tdiff > 0.05:\n",
    "    print(\n",
    "        \"There is no difference between PD-MCI and PD-non-MCI in the time between T1 and T2\"\n",
    "    )\n",
    "else:\n",
    "    print(\n",
    "        \"There is a difference between PD-MCI and PD-non-MCI in the time between T1 and T2\"\n",
    "    )\n",
    "\n",
    "\n",
    "[t_tdiff_mci_hc, p_tdiff_mci_hc] = ttest_ind(\n",
    "    mci_final[\"durationT2_T1\"], hc[\"durationT2_T1\"]\n",
    ")\n",
    "[t_tdiff_womci_hc, p_tdiff_womci_hc] = ttest_ind(\n",
    "    wo_mci_final[\"durationT2_T1\"], hc[\"durationT2_T1\"]\n",
    ")\n",
    "[t_age_mci_hc, p_age_mci_hc] = ttest_ind(mci_final[\"AGE_AT_VISIT\"], hc[\"AGE_AT_VISIT\"])\n",
    "[t_age_womci_hc, p_age_womci_hc] = ttest_ind(\n",
    "    wo_mci_final[\"AGE_AT_VISIT\"], hc[\"AGE_AT_VISIT\"]\n",
    ")\n",
    "\n",
    "\n",
    "print(\n",
    "    \"\\n\",\n",
    "    \"HC vs PD p values:\",\n",
    "    \"T2-T1 mci-hc\",\n",
    "    p_tdiff_mci_hc,\n",
    "    \"T2-T1 nonmci-hc\",\n",
    "    p_tdiff_womci_hc,\n",
    "    \"age mci-hc\",\n",
    "    p_age_mci_hc,\n",
    "    \"age nonmci-hc\",\n",
    "    p_age_womci_hc,\n",
    "    \"\\n\",\n",
    ")\n",
    "\n",
    "if p_tdiff_mci_hc > 0.05:\n",
    "    print(\"There is no difference between HC and PD-MCI in the time between T1 and T2\")\n",
    "else:\n",
    "    print(\"There is a difference between HC and PD-MCI in the time between T1 and T2\")\n",
    "if p_tdiff_womci_hc > 0.05:\n",
    "    print(\n",
    "        \"There is no difference between HC and PD-non-MCI in the time between T1 and T2\"\n",
    "    )\n",
    "else:\n",
    "    print(\n",
    "        \"There is a difference between HC and PD-non-MCI in the time between T1 and T2\"\n",
    "    )\n",
    "if p_age_mci_hc > 0.05:\n",
    "    print(\"There is no difference between HC and PD-MCI in age\")\n",
    "else:\n",
    "    print(\"There is a difference between HC and PD-MCI in age\")\n",
    "if p_age_womci_hc > 0.05:\n",
    "    print(\"There is no difference between HC and PD-non-MCI in age\")\n",
    "else:\n",
    "    print(\"There is a difference between HC and PD-non-MCI in age\")"
   ]
  },
  {
   "cell_type": "code",
   "execution_count": 29,
   "id": "e3d2479a",
   "metadata": {},
   "outputs": [
    {
     "data": {
      "text/html": [
       "<pre style=\"white-space:pre;overflow-x:auto;line-height:normal;font-family:Menlo,'DejaVu Sans Mono',consolas,'Courier New',monospace\"><span style=\"font-style: italic\">                  Demographic and clinical characteristics                  </span>\n",
       "                                                                            \n",
       " <span style=\"font-weight: bold\"> Subject groups                 </span> <span style=\"font-weight: bold\"> HC          </span> <span style=\"font-weight: bold\"> PD-non-MCI  </span> <span style=\"font-weight: bold\"> PD-MCI      </span> \n",
       " ━━━━━━━━━━━━━━━━━━━━━━━━━━━━━━━━━━━━━━━━━━━━━━━━━━━━━━━━━━━━━━━━━━━━━━━━━━ \n",
       "  n                                18            15            8            \n",
       "  Age (y)                          66.9 ±  6.1   63.4 ±  9.5   67.4 ±  6.5  \n",
       "  Age range                        53.2 - 76.8   42.8 - 75.7   61.0 - 79.2  \n",
       "  Gender (male, %)                 15, 83.3%     13, 86.7%     8, 100.0%    \n",
       "  Education (y)                    16.1 ±  2.9   15.1 ±  2.4   14.1 ±  2.1  \n",
       "  Disease duration (y)                            4.1 ±  3.6    4.4 ±  3.5  \n",
       "  H&amp;Y baseline                      0.0 ±  0.0    1.7 ±  0.5    1.8 ±  0.5  \n",
       "  H&amp;Y follow-up                     0.1 ±  0.5    1.8 ±  0.4    1.8 ±  0.5  \n",
       "  UPDRS III OFF baseline                         26.1 ± 13.4   24.0 ± 13.9  \n",
       "  UPDRS III ON baseline                          19.5 ±  8.2   20.2 ± 14.3  \n",
       "  UPDRS III OFF follow-up                        27.5 ± 13.2   28.5 ± 15.3  \n",
       "  MoCA baseline                                  26.0 ±  1.8   24.8 ±  1.4  \n",
       "  MoCA follow-up                                 27.5 ±  1.7   25.2 ±  2.0  \n",
       "  Duration T2 - T1 (m)             14.5 ±  2.9   19.2 ±  6.5   25.7 ±  9.2  \n",
       " ━━━━━━━━━━━━━━━━━━━━━━━━━━━━━━━━━━━━━━━━━━━━━━━━━━━━━━━━━━━━━━━━━━━━━━━━━━ \n",
       " <span style=\"font-weight: bold\"> Values expressed as mean ± SD. </span> <span style=\"font-weight: bold\">             </span> <span style=\"font-weight: bold\">             </span> <span style=\"font-weight: bold\">             </span> \n",
       "                                                                            \n",
       "</pre>\n"
      ],
      "text/plain": [
       "\u001b[3m                  Demographic and clinical characteristics                  \u001b[0m\n",
       "                                                                            \n",
       " \u001b[1m \u001b[0m\u001b[1mSubject groups                \u001b[0m\u001b[1m \u001b[0m \u001b[1m \u001b[0m\u001b[1mHC         \u001b[0m\u001b[1m \u001b[0m \u001b[1m \u001b[0m\u001b[1mPD-non-MCI \u001b[0m\u001b[1m \u001b[0m \u001b[1m \u001b[0m\u001b[1mPD-MCI     \u001b[0m\u001b[1m \u001b[0m \n",
       " ━━━━━━━━━━━━━━━━━━━━━━━━━━━━━━━━━━━━━━━━━━━━━━━━━━━━━━━━━━━━━━━━━━━━━━━━━━ \n",
       "  n                                18            15            8            \n",
       "  Age (y)                          66.9 ±  6.1   63.4 ±  9.5   67.4 ±  6.5  \n",
       "  Age range                        53.2 - 76.8   42.8 - 75.7   61.0 - 79.2  \n",
       "  Gender (male, %)                 15, 83.3%     13, 86.7%     8, 100.0%    \n",
       "  Education (y)                    16.1 ±  2.9   15.1 ±  2.4   14.1 ±  2.1  \n",
       "  Disease duration (y)                            4.1 ±  3.6    4.4 ±  3.5  \n",
       "  H&Y baseline                      0.0 ±  0.0    1.7 ±  0.5    1.8 ±  0.5  \n",
       "  H&Y follow-up                     0.1 ±  0.5    1.8 ±  0.4    1.8 ±  0.5  \n",
       "  UPDRS III OFF baseline                         26.1 ± 13.4   24.0 ± 13.9  \n",
       "  UPDRS III ON baseline                          19.5 ±  8.2   20.2 ± 14.3  \n",
       "  UPDRS III OFF follow-up                        27.5 ± 13.2   28.5 ± 15.3  \n",
       "  MoCA baseline                                  26.0 ±  1.8   24.8 ±  1.4  \n",
       "  MoCA follow-up                                 27.5 ±  1.7   25.2 ±  2.0  \n",
       "  Duration T2 - T1 (m)             14.5 ±  2.9   19.2 ±  6.5   25.7 ±  9.2  \n",
       " ━━━━━━━━━━━━━━━━━━━━━━━━━━━━━━━━━━━━━━━━━━━━━━━━━━━━━━━━━━━━━━━━━━━━━━━━━━ \n",
       " \u001b[1m \u001b[0m\u001b[1mValues expressed as mean ± SD.\u001b[0m\u001b[1m \u001b[0m \u001b[1m \u001b[0m\u001b[1m           \u001b[0m\u001b[1m \u001b[0m \u001b[1m \u001b[0m\u001b[1m           \u001b[0m\u001b[1m \u001b[0m \u001b[1m \u001b[0m\u001b[1m           \u001b[0m\u001b[1m \u001b[0m \n",
       "                                                                            \n"
      ]
     },
     "metadata": {},
     "output_type": "display_data"
    }
   ],
   "source": [
    "cohort_summary(\n",
    "    hc=hc,\n",
    "    nc=wo_mci_final,\n",
    "    mci=mci_final,\n",
    "    title=\"Demographic and clinical characteristics\",\n",
    ")"
   ]
  },
  {
   "cell_type": "markdown",
   "id": "2ec8000a",
   "metadata": {},
   "source": [
    "# Get MRI data"
   ]
  },
  {
   "cell_type": "code",
   "execution_count": 30,
   "id": "9f0c177f",
   "metadata": {},
   "outputs": [],
   "source": [
    "merged_data = pd.concat([mci_final, wo_mci_final, hc], ignore_index=True)\n",
    "merged_data[\"visit_no\"] = \"first\"\n",
    "\n",
    "second_visit = merged_data\n",
    "second_visit = second_visit.drop([\"Description\", \"EVENT_ID\"], axis=1)\n",
    "second_visit.rename(\n",
    "    columns={\"Description_NX\": \"Description\", \"EVENT_ID_NX\": \"EVENT_ID\"}, inplace=True\n",
    ")\n",
    "second_visit[\"visit_no\"] = \"second\"\n",
    "download_data = merged_data.append(second_visit)"
   ]
  },
  {
   "cell_type": "code",
   "execution_count": 31,
   "id": "8a2f2d61",
   "metadata": {},
   "outputs": [
    {
     "name": "stdout",
     "output_type": "stream",
     "text": [
      "Number of available subjects: 82\n",
      "Number of missing subjects: 0\n"
     ]
    },
    {
     "name": "stderr",
     "output_type": "stream",
     "text": [
      "LivingPark-utils|DEBUG|ppmi_downloader.py:106 in __init__()\n",
      "                       self.tempdir: <TemporaryDirectory '/tmp/tmp89icoex8'>\n",
      "LivingPark-utils|DEBUG|ppmi_downloader.py:117 in __init__()\n",
      "                       self.config_file: '.ppmi_config'\n",
      "                       config_file: '.ppmi_config'\n"
     ]
    },
    {
     "name": "stdout",
     "output_type": "stream",
     "text": [
      "Downloading image data of 0 subjects\n"
     ]
    }
   ],
   "source": [
    "# download MRI data\n",
    "\n",
    "utils.download_missing_nifti_files(download_data, link_in_outputs=True)"
   ]
  },
  {
   "cell_type": "code",
   "execution_count": 32,
   "id": "05be8413",
   "metadata": {},
   "outputs": [],
   "source": [
    "# rename PATNO to distinguish between the first and the second visit after preprocessing\n",
    "# PATNO is used as dir name during preprocessing\n",
    "\n",
    "download_data[\"PATNO_id\"] = (\n",
    "    download_data[\"PATNO\"].astype(str) + \"_\" + download_data[\"visit_no\"]\n",
    ")"
   ]
  },
  {
   "cell_type": "markdown",
   "id": "a6a03d27",
   "metadata": {},
   "source": [
    "# Image preprocessing \n",
    "\n",
    "\n",
    "\n",
    "Data is preprocessed using Freesurfer's recon-all."
   ]
  },
  {
   "cell_type": "markdown",
   "id": "179c10e8",
   "metadata": {},
   "source": [
    "**Segmentation**\n",
    "\n",
    "We only segment images for which an existing segmentation is not found in directory outputs."
   ]
  },
  {
   "cell_type": "markdown",
   "id": "e0db52ab",
   "metadata": {},
   "source": [
    "## Preprocessing pipeline by Hanganu et al.\n",
    "\n",
    "* Cortical reconstruction and volumetric segmentation was performed with FreeSurfer 5.3\n",
    "\n",
    "* motion correction and averaging of multiple volumetric T1-weighted images, removal of non-brain tissue using a hybrid surface deformation procedure, automated Talairach transformation, segmentation of the subcortical white matter and deep grey matter volumetric structures, intensity normalization, tessellation of the grey/white matter boundary, automated topology correction, and surface deformation following intensity gradients to optimally place the grey/ white and grey/cerebrospinal fluid borders at the location where the greatest shift in intensity defines the transition to the other tissue class. \n",
    "\n",
    "* images where automatically processed with the longitudinal stream. Specifically an unbiased within-subject template space and image was created using robust, inverse consistent registration. \n",
    "\n",
    "* Several processing steps, such as skull stripping, Talairach transforms, atlas registration as well as spherical surface maps and parcellations were then initialized with common information from the within-subject template.\n",
    "\n",
    "* Misclassification of tissue types was corrected by minimal manual adjustment. Cortical thickness was calculated as the closest distance from the grey/white matter boundary to the grey/cerebrospinal fluid boundary at each vertex on the tessellated surface.\n",
    "\n",
    "* Cortical thickness was smoothed with a 10-mm full-width half-height Gaussian kernel to reduce local variations in the measurements (# whole-brain correlation with MoCA).\n",
    "\n",
    "* For the analysis of subcortical longitudinal changes, the subcortical structures were segmented in order to obtain their volumes. The volumes were then corrected by performing a regression over the estimated total intracranial volume.\n"
   ]
  },
  {
   "cell_type": "markdown",
   "id": "dd792582",
   "metadata": {},
   "source": [
    "Analyses were performed on Compute Canada servers (Advanced Research Computing facilities provided by the Compute Canada Federation). If you don't have Compute Canada account you may be able to request one [here](https://ccdb.computecanada.ca/security/login).\n",
    "\n",
    "Otherwise, please use any other available server or your local machine to run the analyses. You may need to adjust the following code depending on the method you use."
   ]
  },
  {
   "cell_type": "code",
   "execution_count": null,
   "id": "cfe6471a",
   "metadata": {},
   "outputs": [],
   "source": [
    "# copy working directory to Compute Canada server\n",
    "\n",
    "# please provide the following:\n",
    "hostname = \"\"  # please change to the hostname you use\n",
    "username = \"\"  # please provide your Compute Canada username\n",
    "password = \"\"  # please provide your Compute Canada password\n",
    "\n",
    "from paramiko import SSHClient\n",
    "from scp import SCPClient\n",
    "\n",
    "ssh = SSHClient()\n",
    "ssh.load_system_host_keys()\n",
    "ssh.connect(\n",
    "    hostname=hostname,\n",
    "    username=username,\n",
    "    password=password,\n",
    ")\n",
    "\n",
    "\n",
    "# SCPCLient takes a paramiko transport as its only argument\n",
    "scp = SCPClient(ssh.get_transport())\n",
    "\n",
    "cdir = \"./\"\n",
    "scp.put(cdir, \"hanganu\", recursive=True)\n",
    "\n",
    "# scp.get('file_path_on_remote_machine', 'file_path_on_local_machine')\n",
    "\n",
    "scp.close()"
   ]
  },
  {
   "cell_type": "markdown",
   "id": "90cf90ca",
   "metadata": {},
   "source": [
    "# Preprocessing with slurm"
   ]
  },
  {
   "cell_type": "code",
   "execution_count": null,
   "id": "36af9583",
   "metadata": {},
   "outputs": [],
   "source": [
    "%load_ext slurm_magic"
   ]
  },
  {
   "cell_type": "code",
   "execution_count": null,
   "id": "e6dc8b0d",
   "metadata": {},
   "outputs": [],
   "source": [
    "# prepare node for computation. it includes downloading the container\n",
    "\n",
    "! module load singularity\n",
    "\n",
    "from boutiques import bosh\n",
    "\n",
    "zid = \"zenodo.4043546\"\n",
    "bosh([\"exec\", \"prepare\", zid])\n",
    "freesurfer = boutiques.descriptor2func.function(zid)"
   ]
  },
  {
   "cell_type": "code",
   "execution_count": null,
   "id": "1157471b",
   "metadata": {},
   "outputs": [],
   "source": [
    "# exclude subjects from the dataset if the image was already preprocessed\n",
    "\n",
    "import os.path\n",
    "\n",
    "data_to_process = download_data\n",
    "\n",
    "for patno in data_to_process[\"PATNO\"]:\n",
    "\n",
    "    if os.path.exists(\"preproc_FS_codes/exitcode_{0}.txt\".format(patno)) == True:\n",
    "        exitcode = open(\"preproc_FS_codes/exitcode_{0}.txt\".format(patno), \"r\")\n",
    "\n",
    "        if exitcode.read() == \"0\":\n",
    "            data = data_to_process.drop[\"[0]\".format(patno)]\n",
    "            print(\"The image ID\", patno, \"has been preprocessed.\")\n",
    "        elif exitcode.read() != \"0\":\n",
    "            print(\"The image ID\", patno, \"has not been preprocessed successfully.\")\n",
    "\n",
    "    else:\n",
    "        print(\"The image ID\", patno, \"has not been preprocessed at all.\")"
   ]
  },
  {
   "cell_type": "code",
   "execution_count": null,
   "id": "14f0ce28",
   "metadata": {},
   "outputs": [],
   "source": [
    "# save df as json\n",
    "\n",
    "import json\n",
    "\n",
    "download_data[\"PATNO_id\"] = download_data[\"PATNO_id\"].astype(str)\n",
    "\n",
    "data_to_process = data_to_process.reset_index()\n",
    "small_df = data_to_process[[\"PATNO_id\", \"File name\"]]\n",
    "json_data = small_df.to_json()\n",
    "meta = json.loads(json_data)\n",
    "with open(\"json_data.json\", \"w\") as fout:\n",
    "    json.dump(meta, fout, indent=4)"
   ]
  },
  {
   "cell_type": "code",
   "execution_count": 75,
   "id": "d06ed452",
   "metadata": {},
   "outputs": [
    {
     "name": "stdout",
     "output_type": "stream",
     "text": [
      "Writing preprocess_FS.py\n"
     ]
    }
   ],
   "source": [
    "%%writefile preprocess_FS.py\n",
    "\n",
    "# save proprocessing script to submit jobs to the server later \n",
    "\n",
    "import os\n",
    "import json\n",
    "\n",
    "import boutiques\n",
    "from boutiques import bosh\n",
    "zid = \"zenodo.4043546\"\n",
    "from boutiques.descriptor2func import function\n",
    "#bosh([\"exec\", \"prepare\", zid])\n",
    "freesurfer = function(zid)\n",
    "\n",
    "task_id = str(os.environ[\"SLURM_ARRAY_TASK_ID\"])\n",
    "\n",
    "with open('json_data.json') as fin:\n",
    "    subject_map = json.load(fin)\n",
    "\n",
    "    \n",
    "out_fs = freesurfer('--imagepath', 'freesurfer-freesurfer-7.1.1.simg.tmp',\n",
    "                                        input=subject_map[\"File name\"][task_id],\n",
    "                                        license=\"FS_license/license.txt\",\n",
    "                                        subjid=str(subject_map[\"PATNO_id\"][task_id]),\n",
    "                                       )\n",
    "\n",
    "#exitcode = out.stdout\n",
    "exitcode = out_fs.exit_code\n",
    "\n",
    "\n",
    "with open('preproc_FS_codes/exitcode_{0}.txt'.format(str(subject_map[\"PATNO_id\"][task_id])), 'w') as f:\n",
    "        f.write(exitcode)"
   ]
  },
  {
   "cell_type": "code",
   "execution_count": null,
   "id": "10924389",
   "metadata": {},
   "outputs": [],
   "source": [
    "%%sbatch --array=0-81\n",
    "#!/bin/bash\n",
    "#SBATCH --job-name=FS_preproc\n",
    "#SBATCH --mem=4G\n",
    "#SBATCH --cpus-per-task=2\n",
    "#SBATCH --nodes=1\n",
    "#SBATCH --output=FS_preproc.out\n",
    "#SBATCH --error=FS_preproc.err\n",
    "#SBATCH --time=10:0:0\n",
    "#SBATCH --account=rrg-glatard\n",
    "\n",
    ". venv/bin/activate # opens virtual environment. change depending where you proprocess the data  \n",
    "\n",
    "module load singularity\n",
    "\n",
    "python preprocess_FS.py"
   ]
  }
 ],
 "metadata": {
  "celltoolbar": "Slideshow",
  "kernelspec": {
   "display_name": "Python 3 (ipykernel)",
   "language": "python",
   "name": "python3"
  },
  "language_info": {
   "codemirror_mode": {
    "name": "ipython",
    "version": 3
   },
   "file_extension": ".py",
   "mimetype": "text/x-python",
   "name": "python",
   "nbconvert_exporter": "python",
   "pygments_lexer": "ipython3",
   "version": "3.10.8"
  }
 },
 "nbformat": 4,
 "nbformat_minor": 5
}
